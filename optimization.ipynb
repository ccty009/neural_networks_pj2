{
 "cells": [
  {
   "cell_type": "markdown",
   "source": [
    "1、尝试不同数量的神经元/滤波器"
   ],
   "metadata": {
    "collapsed": false
   },
   "id": "4c978b2d532ec405"
  },
  {
   "cell_type": "code",
   "execution_count": 1,
   "id": "initial_id",
   "metadata": {
    "collapsed": true,
    "ExecuteTime": {
     "end_time": "2025-06-13T07:23:01.585145Z",
     "start_time": "2025-06-13T06:54:49.110493Z"
    }
   },
   "outputs": [
    {
     "name": "stdout",
     "output_type": "stream",
     "text": [
      "cpu\n",
      "Files already downloaded and verified\n",
      "Files already downloaded and verified\n",
      "Batch shape: torch.Size([128, 3, 32, 32])\n",
      "Labels shape: torch.Size([128])\n",
      "Labels: [4, 4, 2, 6, 3, 2, 0, 4, 0, 8, 8, 6, 6, 3, 0, 2, 6, 7, 1, 9, 0, 7, 4, 7, 6, 7, 3, 2, 9, 7, 7, 7, 9, 9, 0, 4, 8, 1, 0, 1, 4, 3, 3, 1, 9, 8, 3, 0, 7, 8, 6, 5, 7, 5, 5, 4, 3, 8, 8, 6, 6, 3, 6, 6, 2, 7, 8, 0, 9, 4, 7, 9, 7, 5, 8, 8, 4, 2, 4, 2, 0, 0, 8, 4, 2, 8, 2, 0, 9, 1, 1, 4, 9, 4, 7, 5, 3, 4, 0, 8, 6, 4, 8, 9, 5, 6, 1, 9, 3, 8, 9, 7, 0, 4, 0, 2, 7, 9, 1, 0, 6, 9, 4, 2, 9, 0, 7, 7]\n",
      "\n",
      "Epoch 1/20\n"
     ]
    },
    {
     "name": "stderr",
     "output_type": "stream",
     "text": [
      "                                                                                   \r"
     ]
    },
    {
     "name": "stdout",
     "output_type": "stream",
     "text": [
      "Epoch 1 - Loss: 1.3156 - Val Acc: 62.46%\n",
      "\n",
      "Epoch 2/20\n"
     ]
    },
    {
     "name": "stderr",
     "output_type": "stream",
     "text": [
      "                                                                                   \r"
     ]
    },
    {
     "name": "stdout",
     "output_type": "stream",
     "text": [
      "Epoch 2 - Loss: 0.9082 - Val Acc: 69.07%\n",
      "\n",
      "Epoch 3/20\n"
     ]
    },
    {
     "name": "stderr",
     "output_type": "stream",
     "text": [
      "                                                                                   \r"
     ]
    },
    {
     "name": "stdout",
     "output_type": "stream",
     "text": [
      "Epoch 3 - Loss: 0.7637 - Val Acc: 70.98%\n",
      "\n",
      "Epoch 4/20\n"
     ]
    },
    {
     "name": "stderr",
     "output_type": "stream",
     "text": [
      "                                                                                   \r"
     ]
    },
    {
     "name": "stdout",
     "output_type": "stream",
     "text": [
      "Epoch 4 - Loss: 0.6696 - Val Acc: 71.50%\n",
      "\n",
      "Epoch 5/20\n"
     ]
    },
    {
     "name": "stderr",
     "output_type": "stream",
     "text": [
      "                                                                                   \r"
     ]
    },
    {
     "name": "stdout",
     "output_type": "stream",
     "text": [
      "Epoch 5 - Loss: 0.5871 - Val Acc: 72.62%\n",
      "\n",
      "Epoch 6/20\n"
     ]
    },
    {
     "name": "stderr",
     "output_type": "stream",
     "text": [
      "                                                                                   \r"
     ]
    },
    {
     "name": "stdout",
     "output_type": "stream",
     "text": [
      "Epoch 6 - Loss: 0.5159 - Val Acc: 74.02%\n",
      "\n",
      "Epoch 7/20\n"
     ]
    },
    {
     "name": "stderr",
     "output_type": "stream",
     "text": [
      "                                                                                   \r"
     ]
    },
    {
     "name": "stdout",
     "output_type": "stream",
     "text": [
      "Epoch 7 - Loss: 0.4582 - Val Acc: 72.81%\n",
      "\n",
      "Epoch 8/20\n"
     ]
    },
    {
     "name": "stderr",
     "output_type": "stream",
     "text": [
      "                                                                                   \r"
     ]
    },
    {
     "name": "stdout",
     "output_type": "stream",
     "text": [
      "Epoch 8 - Loss: 0.4070 - Val Acc: 75.76%\n",
      "\n",
      "Epoch 9/20\n"
     ]
    },
    {
     "name": "stderr",
     "output_type": "stream",
     "text": [
      "                                                                                   \r"
     ]
    },
    {
     "name": "stdout",
     "output_type": "stream",
     "text": [
      "Epoch 9 - Loss: 0.3538 - Val Acc: 75.22%\n",
      "\n",
      "Epoch 10/20\n"
     ]
    },
    {
     "name": "stderr",
     "output_type": "stream",
     "text": [
      "                                                                                   \r"
     ]
    },
    {
     "name": "stdout",
     "output_type": "stream",
     "text": [
      "Epoch 10 - Loss: 0.3143 - Val Acc: 76.07%\n",
      "\n",
      "Epoch 11/20\n"
     ]
    },
    {
     "name": "stderr",
     "output_type": "stream",
     "text": [
      "                                                                                   \r"
     ]
    },
    {
     "name": "stdout",
     "output_type": "stream",
     "text": [
      "Epoch 11 - Loss: 0.2692 - Val Acc: 75.41%\n",
      "\n",
      "Epoch 12/20\n"
     ]
    },
    {
     "name": "stderr",
     "output_type": "stream",
     "text": [
      "                                                                                   \r"
     ]
    },
    {
     "name": "stdout",
     "output_type": "stream",
     "text": [
      "Epoch 12 - Loss: 0.2436 - Val Acc: 76.25%\n",
      "\n",
      "Epoch 13/20\n"
     ]
    },
    {
     "name": "stderr",
     "output_type": "stream",
     "text": [
      "                                                                                   \r"
     ]
    },
    {
     "name": "stdout",
     "output_type": "stream",
     "text": [
      "Epoch 13 - Loss: 0.2084 - Val Acc: 75.30%\n",
      "\n",
      "Epoch 14/20\n"
     ]
    },
    {
     "name": "stderr",
     "output_type": "stream",
     "text": [
      "                                                                                   \r"
     ]
    },
    {
     "name": "stdout",
     "output_type": "stream",
     "text": [
      "Epoch 14 - Loss: 0.1842 - Val Acc: 76.33%\n",
      "\n",
      "Epoch 15/20\n"
     ]
    },
    {
     "name": "stderr",
     "output_type": "stream",
     "text": [
      "                                                                                   \r"
     ]
    },
    {
     "name": "stdout",
     "output_type": "stream",
     "text": [
      "Epoch 15 - Loss: 0.1722 - Val Acc: 75.84%\n",
      "\n",
      "Epoch 16/20\n"
     ]
    },
    {
     "name": "stderr",
     "output_type": "stream",
     "text": [
      "                                                                                   \r"
     ]
    },
    {
     "name": "stdout",
     "output_type": "stream",
     "text": [
      "Epoch 16 - Loss: 0.1353 - Val Acc: 74.39%\n",
      "\n",
      "Epoch 17/20\n"
     ]
    },
    {
     "name": "stderr",
     "output_type": "stream",
     "text": [
      "                                                                                   \r"
     ]
    },
    {
     "name": "stdout",
     "output_type": "stream",
     "text": [
      "Epoch 17 - Loss: 0.1237 - Val Acc: 75.50%\n",
      "\n",
      "Epoch 18/20\n"
     ]
    },
    {
     "name": "stderr",
     "output_type": "stream",
     "text": [
      "                                                                                   \r"
     ]
    },
    {
     "name": "stdout",
     "output_type": "stream",
     "text": [
      "Epoch 18 - Loss: 0.1161 - Val Acc: 76.11%\n",
      "\n",
      "Epoch 19/20\n"
     ]
    },
    {
     "name": "stderr",
     "output_type": "stream",
     "text": [
      "                                                                                   \r"
     ]
    },
    {
     "name": "stdout",
     "output_type": "stream",
     "text": [
      "Epoch 19 - Loss: 0.1166 - Val Acc: 75.35%\n",
      "\n",
      "Epoch 20/20\n"
     ]
    },
    {
     "name": "stderr",
     "output_type": "stream",
     "text": [
      "                                                                                   \r"
     ]
    },
    {
     "name": "stdout",
     "output_type": "stream",
     "text": [
      "Epoch 20 - Loss: 0.1043 - Val Acc: 75.67%\n",
      "处理模型: VGG_A_BatchNorm (7820 个loss值)\n",
      "处理模型: VGG_A_Small (7820 个loss值)\n",
      "结果已保存至: optimization_1.png\n"
     ]
    }
   ],
   "source": [
    "import matplotlib as mpl\n",
    "mpl.use('Agg')\n",
    "import matplotlib.pyplot as plt\n",
    "from torch import nn\n",
    "import numpy as np\n",
    "import torch\n",
    "import os\n",
    "import random\n",
    "from tqdm import tqdm as tqdm\n",
    "from IPython import display\n",
    "\n",
    "from models.vgg import VGG_A_Small  # you need to implement this network\n",
    "from data.loaders import get_cifar_loader\n",
    "\n",
    "import torchvision.utils\n",
    "from pathlib import Path\n",
    "\n",
    "\n",
    "# This function is used to calculate the accuracy of model classification\n",
    "def get_accuracy(model, dataloader, device):\n",
    "    ## --------------------\n",
    "    # Add code as needed\n",
    "    \"\"\"\n",
    "    计算模型在 dataloader 上的准确率\n",
    "\n",
    "    :param model: 待评估的模型\n",
    "    :param dataloader: 数据加载器(如 val_loader)\n",
    "    :param device: 'cpu' 或 'cuda'\n",
    "    :return: float,准确率(0~100)\n",
    "    \"\"\"\n",
    "    model.eval()  # 设置为评估模式\n",
    "    correct = 0\n",
    "    total = 0\n",
    "\n",
    "    with torch.no_grad():\n",
    "        for X, y in dataloader:\n",
    "            X = X.to(device)\n",
    "            y = y.to(device)\n",
    "\n",
    "            outputs = model(X)\n",
    "            preds = outputs.argmax(dim=1)\n",
    "            correct += (preds == y).sum().item()\n",
    "            total += y.size(0)\n",
    "\n",
    "    accuracy = 100.0 * correct / total\n",
    "    return accuracy\n",
    "    ## --------------------\n",
    "    pass\n",
    "\n",
    "\n",
    "# Set a random seed to ensure reproducible results\n",
    "def set_random_seeds(seed_value=0, device='cpu'):\n",
    "    np.random.seed(seed_value)\n",
    "    torch.manual_seed(seed_value)\n",
    "    random.seed(seed_value)\n",
    "    if device != 'cpu':\n",
    "        torch.cuda.manual_seed(seed_value)\n",
    "        torch.cuda.manual_seed_all(seed_value)\n",
    "        torch.backends.cudnn.deterministic = True\n",
    "        torch.backends.cudnn.benchmark = False\n",
    "\n",
    "\n",
    "# We use this function to complete the entire\n",
    "# training process. In order to plot the loss landscape,\n",
    "# you need to record the loss value of each step.\n",
    "# Of course, as before, you can test your model\n",
    "# after drawing a training round and save the curve\n",
    "# to observe the training\n",
    "def train(model, optimizer, criterion, train_loader, val_loader, scheduler=None, epochs_n=100, best_model_path=None):\n",
    "    model.to(device)\n",
    "    learning_curve = [np.nan] * epochs_n\n",
    "    train_accuracy_curve = [np.nan] * epochs_n\n",
    "    val_accuracy_curve = [np.nan] * epochs_n\n",
    "    max_val_accuracy = 0\n",
    "    max_val_accuracy_epoch = 0\n",
    "\n",
    "    batches_n = len(train_loader)\n",
    "    losses_list = []\n",
    "    grads = []\n",
    "\n",
    "    # 外层循环：epoch\n",
    "    for epoch in range(epochs_n):\n",
    "        print(f\"\\nEpoch {epoch + 1}/{epochs_n}\")\n",
    "\n",
    "        # 创建当前epoch的进度条\n",
    "        epoch_progress = tqdm(total=batches_n, desc=f\"Training batches\", unit=\"batch\", leave=False)\n",
    "\n",
    "        model.train()\n",
    "        loss_list = []\n",
    "        learning_curve[epoch] = 0  # 重置为0\n",
    "\n",
    "        for batch_idx, data in enumerate(train_loader):\n",
    "            x, y = data\n",
    "            x = x.to(device)\n",
    "            y = y.to(device)\n",
    "            optimizer.zero_grad()\n",
    "            prediction = model(x)\n",
    "            loss = criterion(prediction, y)\n",
    "\n",
    "            loss_list.append(loss.item())\n",
    "            learning_curve[epoch] += loss.item()\n",
    "\n",
    "            loss.backward()\n",
    "            optimizer.step()\n",
    "\n",
    "            # 更新进度条（每个batch更新一次）\n",
    "            epoch_progress.update(1)\n",
    "            epoch_progress.set_postfix(loss=f\"{loss.item():.4f}\")\n",
    "\n",
    "        # 完成当前epoch的进度条\n",
    "        epoch_progress.close()\n",
    "\n",
    "        losses_list.append(loss_list)\n",
    "        learning_curve[epoch] /= batches_n\n",
    "\n",
    "        # 计算验证准确率\n",
    "        val_acc = get_accuracy(model, val_loader, device)\n",
    "        val_accuracy_curve[epoch] = val_acc\n",
    "\n",
    "        # 打印epoch结果\n",
    "        print(f\"Epoch {epoch + 1} - Loss: {learning_curve[epoch]:.4f} - Val Acc: {val_acc:.2f}%\")\n",
    "\n",
    "        # 保存最佳模型\n",
    "        if val_acc > max_val_accuracy:\n",
    "            max_val_accuracy = val_acc\n",
    "            max_val_accuracy_epoch = epoch\n",
    "            if best_model_path:\n",
    "                torch.save(model.state_dict(), best_model_path)\n",
    "                print(f\"Saved new best model at epoch {epoch + 1} with val acc {val_acc:.2f}%\")\n",
    "\n",
    "    return losses_list, grads\n",
    "\n",
    "\n",
    "# loss landscape绘制，绘制loss文件夹下所有模型\n",
    "def plot_loss_landscape(loss_dir,\n",
    "                        output_image=\"loss_landscape.png\",\n",
    "                        step_size=10,\n",
    "                        alpha=0.4,\n",
    "                        use_log_scale=True,\n",
    "                        figsize=(12, 8),\n",
    "                        dpi=100,\n",
    "                        title=\"Loss Landscape Comparison\",\n",
    "                        xlabel=\"Training Steps (grouped by iterations)\",\n",
    "                        ylabel=\"Loss Value\",\n",
    "                        grid_style=('--', 0.7),\n",
    "                        legend_loc='upper right',\n",
    "                        legend_fontsize=12,\n",
    "                        title_fontsize=16,\n",
    "                        label_fontsize=14,\n",
    "                        colors=None):\n",
    "    \"\"\"\n",
    "    绘制多个模型的损失景观图，每个模型显示其loss值的波动范围\n",
    "\n",
    "    参数:\n",
    "        loss_dir (str): 包含loss文件的目录路径\n",
    "        output_image (str): 输出图像文件名，默认为\"loss_landscape.png\"\n",
    "        step_size (int): 每个step包含的迭代次数，默认为10\n",
    "        alpha (float): 填充区域的透明度(0-1)，默认为0.4\n",
    "        use_log_scale (bool): 是否使用对数y轴，默认为True\n",
    "        figsize (tuple): 图像尺寸，默认为(12, 8)\n",
    "        dpi (int): 图像分辨率，默认为100\n",
    "        title (str): 图表标题，默认为\"Loss Landscape Comparison\"\n",
    "        xlabel (str): x轴标签，默认为\"Training Steps (grouped by iterations)\"\n",
    "        ylabel (str): y轴标签，默认为\"Loss Value\"\n",
    "        grid_style (tuple): 网格线样式(linestyle, alpha)，默认为('--', 0.7)\n",
    "        legend_loc (str): 图例位置，默认为'upper right'\n",
    "        legend_fontsize (int): 图例字体大小，默认为12\n",
    "        title_fontsize (int): 标题字体大小，默认为16\n",
    "        label_fontsize (int): 轴标签字体大小，默认为14\n",
    "        colors (list): 自定义颜色列表，如果为None则使用默认颜色\n",
    "    \"\"\"\n",
    "    # 创建图形\n",
    "    plt.figure(figsize=figsize, dpi=dpi)\n",
    "    plt.title(title, fontsize=title_fontsize)\n",
    "    plt.xlabel(xlabel, fontsize=label_fontsize)\n",
    "    plt.ylabel(ylabel, fontsize=label_fontsize)\n",
    "    plt.grid(True, linestyle=grid_style[0], alpha=grid_style[1])\n",
    "\n",
    "    # 设置默认颜色\n",
    "    if colors is None:\n",
    "        colors = plt.cm.tab10(np.linspace(0, 1, 10))\n",
    "\n",
    "    # 遍历所有loss文件\n",
    "    for idx, file_path in enumerate(Path(loss_dir).glob(\"*.txt\")):\n",
    "        model_name = file_path.stem  # 使用文件名作为模型名称\n",
    "\n",
    "        # 读取并解析文件\n",
    "        all_losses = []\n",
    "        try:\n",
    "            with open(file_path, 'r') as f:\n",
    "                for line in f:\n",
    "                    # 处理每行中的空格分隔的损失值\n",
    "                    losses = [float(x) for x in line.split()]\n",
    "                    all_losses.extend(losses)\n",
    "        except Exception as e:\n",
    "            print(f\"错误: 读取文件 {file_path} 时出错 - {e}\")\n",
    "            continue\n",
    "\n",
    "        if not all_losses:\n",
    "            print(f\"警告: {file_path} 没有有效数据，跳过\")\n",
    "            continue\n",
    "\n",
    "        print(f\"处理模型: {model_name} ({len(all_losses)} 个loss值)\")\n",
    "\n",
    "        # 计算step数量\n",
    "        num_steps = len(all_losses) // step_size\n",
    "\n",
    "        # 准备min_curve和max_curve\n",
    "        min_curve = []\n",
    "        max_curve = []\n",
    "\n",
    "        # 每step_size个loss值作为一个step，计算该step的最小和最大值\n",
    "        for i in range(num_steps):\n",
    "            start = i * step_size\n",
    "            end = start + step_size\n",
    "            step_losses = all_losses[start:end]\n",
    "\n",
    "            min_loss = min(step_losses)\n",
    "            max_loss = max(step_losses)\n",
    "\n",
    "            min_curve.append(min_loss)\n",
    "            max_curve.append(max_loss)\n",
    "\n",
    "        # 创建step数组\n",
    "        steps = np.arange(num_steps)\n",
    "\n",
    "        # 填充最小值和最大值之间的区域\n",
    "        plt.fill_between(steps, min_curve, max_curve,\n",
    "                         color=colors[idx % len(colors)],\n",
    "                         alpha=alpha,\n",
    "                         label=model_name)\n",
    "\n",
    "    # 添加图例和美化\n",
    "    plt.legend(fontsize=legend_fontsize, loc=legend_loc)\n",
    "    if use_log_scale:\n",
    "        plt.yscale('log')  # 对数坐标更好展示变化\n",
    "    plt.tight_layout()\n",
    "\n",
    "    # 保存并显示图像\n",
    "    plt.savefig(output_image, bbox_inches='tight')\n",
    "    print(f\"结果已保存至: {output_image}\")\n",
    "\n",
    "\n",
    "if __name__ == '__main__':\n",
    "\n",
    "    # ## Constants (parameters) initialization\n",
    "    num_workers = 4\n",
    "    batch_size = 128\n",
    "\n",
    "    # add our package dir to path\n",
    "    module_path = os.path.dirname(os.getcwd())\n",
    "    home_path = module_path\n",
    "    figures_path = os.path.join(home_path, 'reports', 'figures')\n",
    "    models_path = os.path.join(home_path, 'reports', 'models')\n",
    "\n",
    "    # Make sure you are using the right device.\n",
    "    \"没有GPU,这里改用CPU\"\n",
    "    os.environ[\"CUDA_DEVICE_ORDER\"] = \"PCI_BUS_ID\"\n",
    "    device = torch.device(\"cpu\")\n",
    "    print(device)\n",
    "\n",
    "\n",
    "    # Initialize your data loader and\n",
    "    # make sure that dataloader works\n",
    "    # as expected by observing one\n",
    "    # sample from it.\n",
    "    train_loader = get_cifar_loader(train=True)\n",
    "    val_loader = get_cifar_loader(train=False)\n",
    "    for X, y in train_loader:\n",
    "        ## --------------------\n",
    "        # Add code as needed\n",
    "        # X: 图像张量，shape: [B, 3, 32, 32]\n",
    "        # y: 标签张量，shape: [B]\n",
    "        print(\"Batch shape:\", X.shape)\n",
    "        print(\"Labels shape:\", y.shape)\n",
    "        print(\"Labels:\", y.tolist())\n",
    "\n",
    "        # 将前8张图像组成网格展示（将像素还原到 0-1）\n",
    "        grid = torchvision.utils.make_grid(X[:8], nrow=4, normalize=True)\n",
    "        npimg = grid.permute(1, 2, 0).numpy()\n",
    "\n",
    "\n",
    "        plt.figure(figsize=(6, 3))\n",
    "        plt.imshow(npimg)\n",
    "        plt.title(\"Sample Training Images\")\n",
    "        plt.axis(\"off\")\n",
    "        plt.savefig(\"sample.png\")\n",
    "        ## --------------------\n",
    "        break\n",
    "\n",
    "    # Train your model\n",
    "    # feel free to modify\n",
    "    epo = 20\n",
    "    loss_save_path = 'loss/optimization/loss_1'\n",
    "    grad_save_path = 'grad/optimization/grad_1'\n",
    "\n",
    "    set_random_seeds(seed_value=2020, device=device)\n",
    "    model = VGG_A_Small()\n",
    "    model_name = type(model).__name__\n",
    "\n",
    "    lr = 0.001\n",
    "    optimizer = torch.optim.Adam(model.parameters(), lr=lr)\n",
    "    criterion = nn.CrossEntropyLoss()\n",
    "    loss, grads = train(model, optimizer, criterion, train_loader, val_loader, epochs_n=epo)\n",
    "    np.savetxt(os.path.join(loss_save_path, f'{model_name}.txt'), loss, fmt='%s', delimiter=' ')\n",
    "    np.savetxt(os.path.join(grad_save_path, f'{model_name}.txt'), grads, fmt='%s', delimiter=' ')\n",
    "\n",
    "    # 绘制“loss”文件夹下所有模型\n",
    "    plot_loss_landscape(loss_dir=loss_save_path,output_image=\"optimization_1.png\")\n"
   ]
  },
  {
   "cell_type": "markdown",
   "source": [
    "2、尝试不同的损失函数（带有不同的正则化）"
   ],
   "metadata": {
    "collapsed": false
   },
   "id": "fb9480fbb867b365"
  },
  {
   "cell_type": "code",
   "outputs": [
    {
     "name": "stdout",
     "output_type": "stream",
     "text": [
      "cpu\n",
      "Files already downloaded and verified\n",
      "Files already downloaded and verified\n",
      "\n",
      "Epoch 1/20\n"
     ]
    },
    {
     "name": "stderr",
     "output_type": "stream",
     "text": [
      "                                                                                   \r"
     ]
    },
    {
     "name": "stdout",
     "output_type": "stream",
     "text": [
      "Epoch 1 - Loss: 1.5732 - Val Acc: 59.88%\n",
      "\n",
      "Epoch 2/20\n"
     ]
    },
    {
     "name": "stderr",
     "output_type": "stream",
     "text": [
      "                                                                                   \r"
     ]
    },
    {
     "name": "stdout",
     "output_type": "stream",
     "text": [
      "Epoch 2 - Loss: 1.1799 - Val Acc: 69.68%\n",
      "\n",
      "Epoch 3/20\n"
     ]
    },
    {
     "name": "stderr",
     "output_type": "stream",
     "text": [
      "                                                                                   \r"
     ]
    },
    {
     "name": "stdout",
     "output_type": "stream",
     "text": [
      "Epoch 3 - Loss: 1.0260 - Val Acc: 74.19%\n",
      "\n",
      "Epoch 4/20\n"
     ]
    },
    {
     "name": "stderr",
     "output_type": "stream",
     "text": [
      "                                                                                   \r"
     ]
    },
    {
     "name": "stdout",
     "output_type": "stream",
     "text": [
      "Epoch 4 - Loss: 0.9338 - Val Acc: 76.53%\n",
      "\n",
      "Epoch 5/20\n"
     ]
    },
    {
     "name": "stderr",
     "output_type": "stream",
     "text": [
      "                                                                                   \r"
     ]
    },
    {
     "name": "stdout",
     "output_type": "stream",
     "text": [
      "Epoch 5 - Loss: 0.8720 - Val Acc: 77.85%\n",
      "\n",
      "Epoch 6/20\n"
     ]
    },
    {
     "name": "stderr",
     "output_type": "stream",
     "text": [
      "                                                                                   \r"
     ]
    },
    {
     "name": "stdout",
     "output_type": "stream",
     "text": [
      "Epoch 6 - Loss: 0.8224 - Val Acc: 76.61%\n",
      "\n",
      "Epoch 7/20\n"
     ]
    },
    {
     "name": "stderr",
     "output_type": "stream",
     "text": [
      "                                                                                   \r"
     ]
    },
    {
     "name": "stdout",
     "output_type": "stream",
     "text": [
      "Epoch 7 - Loss: 0.7804 - Val Acc: 80.37%\n",
      "\n",
      "Epoch 8/20\n"
     ]
    },
    {
     "name": "stderr",
     "output_type": "stream",
     "text": [
      "                                                                                   \r"
     ]
    },
    {
     "name": "stdout",
     "output_type": "stream",
     "text": [
      "Epoch 8 - Loss: 0.7355 - Val Acc: 77.38%\n",
      "\n",
      "Epoch 9/20\n"
     ]
    },
    {
     "name": "stderr",
     "output_type": "stream",
     "text": [
      "                                                                                   \r"
     ]
    },
    {
     "name": "stdout",
     "output_type": "stream",
     "text": [
      "Epoch 9 - Loss: 0.7059 - Val Acc: 80.26%\n",
      "\n",
      "Epoch 10/20\n"
     ]
    },
    {
     "name": "stderr",
     "output_type": "stream",
     "text": [
      "                                                                                   \r"
     ]
    },
    {
     "name": "stdout",
     "output_type": "stream",
     "text": [
      "Epoch 10 - Loss: 0.6784 - Val Acc: 80.82%\n",
      "\n",
      "Epoch 11/20\n"
     ]
    },
    {
     "name": "stderr",
     "output_type": "stream",
     "text": [
      "                                                                                   \r"
     ]
    },
    {
     "name": "stdout",
     "output_type": "stream",
     "text": [
      "Epoch 11 - Loss: 0.6524 - Val Acc: 81.18%\n",
      "\n",
      "Epoch 12/20\n"
     ]
    },
    {
     "name": "stderr",
     "output_type": "stream",
     "text": [
      "                                                                                   \r"
     ]
    },
    {
     "name": "stdout",
     "output_type": "stream",
     "text": [
      "Epoch 12 - Loss: 0.6366 - Val Acc: 78.61%\n",
      "\n",
      "Epoch 13/20\n"
     ]
    },
    {
     "name": "stderr",
     "output_type": "stream",
     "text": [
      "                                                                                   \r"
     ]
    },
    {
     "name": "stdout",
     "output_type": "stream",
     "text": [
      "Epoch 13 - Loss: 0.6234 - Val Acc: 81.98%\n",
      "\n",
      "Epoch 14/20\n"
     ]
    },
    {
     "name": "stderr",
     "output_type": "stream",
     "text": [
      "                                                                                   \r"
     ]
    },
    {
     "name": "stdout",
     "output_type": "stream",
     "text": [
      "Epoch 14 - Loss: 0.6069 - Val Acc: 80.34%\n",
      "\n",
      "Epoch 15/20\n"
     ]
    },
    {
     "name": "stderr",
     "output_type": "stream",
     "text": [
      "                                                                                   \r"
     ]
    },
    {
     "name": "stdout",
     "output_type": "stream",
     "text": [
      "Epoch 15 - Loss: 0.5984 - Val Acc: 79.25%\n",
      "\n",
      "Epoch 16/20\n"
     ]
    },
    {
     "name": "stderr",
     "output_type": "stream",
     "text": [
      "                                                                                   \r"
     ]
    },
    {
     "name": "stdout",
     "output_type": "stream",
     "text": [
      "Epoch 16 - Loss: 0.5926 - Val Acc: 81.11%\n",
      "\n",
      "Epoch 17/20\n"
     ]
    },
    {
     "name": "stderr",
     "output_type": "stream",
     "text": [
      "                                                                                   \r"
     ]
    },
    {
     "name": "stdout",
     "output_type": "stream",
     "text": [
      "Epoch 17 - Loss: 0.5870 - Val Acc: 81.46%\n",
      "\n",
      "Epoch 18/20\n"
     ]
    },
    {
     "name": "stderr",
     "output_type": "stream",
     "text": [
      "                                                                                   \r"
     ]
    },
    {
     "name": "stdout",
     "output_type": "stream",
     "text": [
      "Epoch 18 - Loss: 0.5774 - Val Acc: 79.70%\n",
      "\n",
      "Epoch 19/20\n"
     ]
    },
    {
     "name": "stderr",
     "output_type": "stream",
     "text": [
      "                                                                                   \r"
     ]
    },
    {
     "name": "stdout",
     "output_type": "stream",
     "text": [
      "Epoch 19 - Loss: 0.5808 - Val Acc: 82.45%\n",
      "\n",
      "Epoch 20/20\n"
     ]
    },
    {
     "name": "stderr",
     "output_type": "stream",
     "text": [
      "                                                                                   \r"
     ]
    },
    {
     "name": "stdout",
     "output_type": "stream",
     "text": [
      "Epoch 20 - Loss: 0.5702 - Val Acc: 80.94%\n",
      "处理模型: baseline VGG_A_BatchNorm (7820 个loss值)\n",
      "处理模型: VGG_A_BatchNorm (7820 个loss值)\n",
      "结果已保存至: optimization_2.png\n"
     ]
    }
   ],
   "source": [
    "from models.vgg import VGG_A_BatchNorm  \n",
    "\n",
    "if __name__ == '__main__':\n",
    "    \n",
    "    # ## Constants (parameters) initialization\n",
    "    num_workers = 4\n",
    "    batch_size = 128\n",
    "\n",
    "    # add our package dir to path\n",
    "    module_path = os.path.dirname(os.getcwd())\n",
    "    home_path = module_path\n",
    "    figures_path = os.path.join(home_path, 'reports', 'figures')\n",
    "    models_path = os.path.join(home_path, 'reports', 'models')\n",
    "\n",
    "    # Make sure you are using the right device.\n",
    "    \"没有GPU,这里改用CPU\"\n",
    "    os.environ[\"CUDA_DEVICE_ORDER\"] = \"PCI_BUS_ID\"\n",
    "    device = torch.device(\"cpu\")\n",
    "    print(device)\n",
    "\n",
    "    train_loader = get_cifar_loader(train=True)\n",
    "    val_loader = get_cifar_loader(train=False)\n",
    "        \n",
    "    # Train your model\n",
    "    # feel free to modify\n",
    "    epo = 20\n",
    "    loss_save_path = 'loss/optimization/loss_2'\n",
    "    grad_save_path = 'grad/optimization/grad_2'\n",
    "\n",
    "    set_random_seeds(seed_value=2020, device=device)\n",
    "    model = VGG_A_BatchNorm()\n",
    "    model_name = type(model).__name__\n",
    "\n",
    "    lr = 0.001\n",
    "    criterion = torch.nn.CrossEntropyLoss(label_smoothing=0.1)\n",
    "    optimizer = torch.optim.Adam(model.parameters(), lr=0.001, weight_decay=1e-4)\n",
    "    loss, grads = train(model, optimizer, criterion, train_loader, val_loader, epochs_n=epo)\n",
    "    np.savetxt(os.path.join(loss_save_path, f'{model_name}.txt'), loss, fmt='%s', delimiter=' ')\n",
    "    np.savetxt(os.path.join(grad_save_path, f'{model_name}.txt'), grads, fmt='%s', delimiter=' ')\n",
    "\n",
    "    # 绘制“loss”文件夹下所有模型\n",
    "    plot_loss_landscape(loss_dir=loss_save_path,output_image=\"optimization_2.png\")\n"
   ],
   "metadata": {
    "collapsed": false,
    "ExecuteTime": {
     "end_time": "2025-06-11T13:41:13.055665Z",
     "start_time": "2025-06-11T11:21:55.151382Z"
    }
   },
   "id": "3fdc4a923e86edc",
   "execution_count": 2
  },
  {
   "cell_type": "markdown",
   "source": [
    "3、尝试不同的激活函数"
   ],
   "metadata": {
    "collapsed": false
   },
   "id": "477fe716265db8cd"
  },
  {
   "cell_type": "code",
   "outputs": [],
   "source": [
    "import matplotlib as mpl\n",
    "mpl.use('Agg')\n",
    "import matplotlib.pyplot as plt\n",
    "from torch import nn\n",
    "import numpy as np\n",
    "import torch\n",
    "import os\n",
    "import random\n",
    "from tqdm import tqdm as tqdm\n",
    "from IPython import display\n",
    "\n",
    "from models.vgg import VGG_A_Leaky \n",
    "from data.loaders import get_cifar_loader\n",
    "\n",
    "import torchvision.utils\n",
    "from pathlib import Path\n",
    "\n",
    "\n",
    "# This function is used to calculate the accuracy of model classification\n",
    "def get_accuracy(model, dataloader, device):\n",
    "    ## --------------------\n",
    "    # Add code as needed\n",
    "    \"\"\"\n",
    "    计算模型在 dataloader 上的准确率\n",
    "\n",
    "    :param model: 待评估的模型\n",
    "    :param dataloader: 数据加载器(如 val_loader)\n",
    "    :param device: 'cpu' 或 'cuda'\n",
    "    :return: float,准确率(0~100)\n",
    "    \"\"\"\n",
    "    model.eval()  # 设置为评估模式\n",
    "    correct = 0\n",
    "    total = 0\n",
    "\n",
    "    with torch.no_grad():\n",
    "        for X, y in dataloader:\n",
    "            X = X.to(device)\n",
    "            y = y.to(device)\n",
    "\n",
    "            outputs = model(X)\n",
    "            preds = outputs.argmax(dim=1)\n",
    "            correct += (preds == y).sum().item()\n",
    "            total += y.size(0)\n",
    "\n",
    "    accuracy = 100.0 * correct / total\n",
    "    return accuracy\n",
    "    ## --------------------\n",
    "    pass\n",
    "\n",
    "\n",
    "# Set a random seed to ensure reproducible results\n",
    "def set_random_seeds(seed_value=0, device='cpu'):\n",
    "    np.random.seed(seed_value)\n",
    "    torch.manual_seed(seed_value)\n",
    "    random.seed(seed_value)\n",
    "    if device != 'cpu':\n",
    "        torch.cuda.manual_seed(seed_value)\n",
    "        torch.cuda.manual_seed_all(seed_value)\n",
    "        torch.backends.cudnn.deterministic = True\n",
    "        torch.backends.cudnn.benchmark = False\n",
    "\n",
    "\n",
    "# We use this function to complete the entire\n",
    "# training process. In order to plot the loss landscape,\n",
    "# you need to record the loss value of each step.\n",
    "# Of course, as before, you can test your model\n",
    "# after drawing a training round and save the curve\n",
    "# to observe the training\n",
    "def train(model, optimizer, criterion, train_loader, val_loader, scheduler=None, epochs_n=100, best_model_path=None):\n",
    "    model.to(device)\n",
    "    learning_curve = [np.nan] * epochs_n\n",
    "    train_accuracy_curve = [np.nan] * epochs_n\n",
    "    val_accuracy_curve = [np.nan] * epochs_n\n",
    "    max_val_accuracy = 0\n",
    "    max_val_accuracy_epoch = 0\n",
    "\n",
    "    batches_n = len(train_loader)\n",
    "    losses_list = []\n",
    "    grads = []\n",
    "\n",
    "    # 外层循环：epoch\n",
    "    for epoch in range(epochs_n):\n",
    "        print(f\"\\nEpoch {epoch + 1}/{epochs_n}\")\n",
    "\n",
    "        # 创建当前epoch的进度条\n",
    "        epoch_progress = tqdm(total=batches_n, desc=f\"Training batches\", unit=\"batch\", leave=False)\n",
    "\n",
    "        model.train()\n",
    "        loss_list = []\n",
    "        learning_curve[epoch] = 0  # 重置为0\n",
    "\n",
    "        for batch_idx, data in enumerate(train_loader):\n",
    "            x, y = data\n",
    "            x = x.to(device)\n",
    "            y = y.to(device)\n",
    "            optimizer.zero_grad()\n",
    "            prediction = model(x)\n",
    "            loss = criterion(prediction, y)\n",
    "\n",
    "            loss_list.append(loss.item())\n",
    "            learning_curve[epoch] += loss.item()\n",
    "\n",
    "            loss.backward()\n",
    "            optimizer.step()\n",
    "\n",
    "            # 更新进度条（每个batch更新一次）\n",
    "            epoch_progress.update(1)\n",
    "            epoch_progress.set_postfix(loss=f\"{loss.item():.4f}\")\n",
    "\n",
    "        # 完成当前epoch的进度条\n",
    "        epoch_progress.close()\n",
    "\n",
    "        losses_list.append(loss_list)\n",
    "        learning_curve[epoch] /= batches_n\n",
    "\n",
    "        # 计算验证准确率\n",
    "        val_acc = get_accuracy(model, val_loader, device)\n",
    "        val_accuracy_curve[epoch] = val_acc\n",
    "\n",
    "        # 打印epoch结果\n",
    "        print(f\"Epoch {epoch + 1} - Loss: {learning_curve[epoch]:.4f} - Val Acc: {val_acc:.2f}%\")\n",
    "\n",
    "        # 保存最佳模型\n",
    "        if val_acc > max_val_accuracy:\n",
    "            max_val_accuracy = val_acc\n",
    "            max_val_accuracy_epoch = epoch\n",
    "            if best_model_path:\n",
    "                torch.save(model.state_dict(), best_model_path)\n",
    "                print(f\"Saved new best model at epoch {epoch + 1} with val acc {val_acc:.2f}%\")\n",
    "\n",
    "    return losses_list, grads\n",
    "\n",
    "\n",
    "# loss landscape绘制，绘制loss文件夹下所有模型\n",
    "def plot_loss_landscape(loss_dir,\n",
    "                        output_image=\"loss_landscape.png\",\n",
    "                        step_size=10,\n",
    "                        alpha=0.4,\n",
    "                        use_log_scale=True,\n",
    "                        figsize=(12, 8),\n",
    "                        dpi=100,\n",
    "                        title=\"Loss Landscape Comparison\",\n",
    "                        xlabel=\"Training Steps (grouped by iterations)\",\n",
    "                        ylabel=\"Loss Value\",\n",
    "                        grid_style=('--', 0.7),\n",
    "                        legend_loc='upper right',\n",
    "                        legend_fontsize=12,\n",
    "                        title_fontsize=16,\n",
    "                        label_fontsize=14,\n",
    "                        colors=None):\n",
    "    \"\"\"\n",
    "    绘制多个模型的损失景观图，每个模型显示其loss值的波动范围\n",
    "\n",
    "    参数:\n",
    "        loss_dir (str): 包含loss文件的目录路径\n",
    "        output_image (str): 输出图像文件名，默认为\"loss_landscape.png\"\n",
    "        step_size (int): 每个step包含的迭代次数，默认为10\n",
    "        alpha (float): 填充区域的透明度(0-1)，默认为0.4\n",
    "        use_log_scale (bool): 是否使用对数y轴，默认为True\n",
    "        figsize (tuple): 图像尺寸，默认为(12, 8)\n",
    "        dpi (int): 图像分辨率，默认为100\n",
    "        title (str): 图表标题，默认为\"Loss Landscape Comparison\"\n",
    "        xlabel (str): x轴标签，默认为\"Training Steps (grouped by iterations)\"\n",
    "        ylabel (str): y轴标签，默认为\"Loss Value\"\n",
    "        grid_style (tuple): 网格线样式(linestyle, alpha)，默认为('--', 0.7)\n",
    "        legend_loc (str): 图例位置，默认为'upper right'\n",
    "        legend_fontsize (int): 图例字体大小，默认为12\n",
    "        title_fontsize (int): 标题字体大小，默认为16\n",
    "        label_fontsize (int): 轴标签字体大小，默认为14\n",
    "        colors (list): 自定义颜色列表，如果为None则使用默认颜色\n",
    "    \"\"\"\n",
    "    # 创建图形\n",
    "    plt.figure(figsize=figsize, dpi=dpi)\n",
    "    plt.title(title, fontsize=title_fontsize)\n",
    "    plt.xlabel(xlabel, fontsize=label_fontsize)\n",
    "    plt.ylabel(ylabel, fontsize=label_fontsize)\n",
    "    plt.grid(True, linestyle=grid_style[0], alpha=grid_style[1])\n",
    "\n",
    "    # 设置默认颜色\n",
    "    if colors is None:\n",
    "        colors = plt.cm.tab10(np.linspace(0, 1, 10))\n",
    "\n",
    "    # 遍历所有loss文件\n",
    "    for idx, file_path in enumerate(Path(loss_dir).glob(\"*.txt\")):\n",
    "        model_name = file_path.stem  # 使用文件名作为模型名称\n",
    "\n",
    "        # 读取并解析文件\n",
    "        all_losses = []\n",
    "        try:\n",
    "            with open(file_path, 'r') as f:\n",
    "                for line in f:\n",
    "                    # 处理每行中的空格分隔的损失值\n",
    "                    losses = [float(x) for x in line.split()]\n",
    "                    all_losses.extend(losses)\n",
    "        except Exception as e:\n",
    "            print(f\"错误: 读取文件 {file_path} 时出错 - {e}\")\n",
    "            continue\n",
    "\n",
    "        if not all_losses:\n",
    "            print(f\"警告: {file_path} 没有有效数据，跳过\")\n",
    "            continue\n",
    "\n",
    "        print(f\"处理模型: {model_name} ({len(all_losses)} 个loss值)\")\n",
    "\n",
    "        # 计算step数量\n",
    "        num_steps = len(all_losses) // step_size\n",
    "\n",
    "        # 准备min_curve和max_curve\n",
    "        min_curve = []\n",
    "        max_curve = []\n",
    "\n",
    "        # 每step_size个loss值作为一个step，计算该step的最小和最大值\n",
    "        for i in range(num_steps):\n",
    "            start = i * step_size\n",
    "            end = start + step_size\n",
    "            step_losses = all_losses[start:end]\n",
    "\n",
    "            min_loss = min(step_losses)\n",
    "            max_loss = max(step_losses)\n",
    "\n",
    "            min_curve.append(min_loss)\n",
    "            max_curve.append(max_loss)\n",
    "\n",
    "        # 创建step数组\n",
    "        steps = np.arange(num_steps)\n",
    "\n",
    "        # 填充最小值和最大值之间的区域\n",
    "        plt.fill_between(steps, min_curve, max_curve,\n",
    "                         color=colors[idx % len(colors)],\n",
    "                         alpha=alpha,\n",
    "                         label=model_name)\n",
    "\n",
    "    # 添加图例和美化\n",
    "    plt.legend(fontsize=legend_fontsize, loc=legend_loc)\n",
    "    if use_log_scale:\n",
    "        plt.yscale('log')  # 对数坐标更好展示变化\n",
    "    plt.tight_layout()\n",
    "\n",
    "    # 保存并显示图像\n",
    "    plt.savefig(output_image, bbox_inches='tight')\n",
    "    print(f\"结果已保存至: {output_image}\")"
   ],
   "metadata": {
    "collapsed": false,
    "ExecuteTime": {
     "end_time": "2025-06-11T13:56:58.583631Z",
     "start_time": "2025-06-11T13:56:54.612509Z"
    }
   },
   "id": "575dc726d96287df",
   "execution_count": 1
  },
  {
   "cell_type": "code",
   "outputs": [
    {
     "name": "stdout",
     "output_type": "stream",
     "text": [
      "cpu\n",
      "Files already downloaded and verified\n",
      "Files already downloaded and verified\n",
      "\n",
      "Epoch 1/20\n"
     ]
    },
    {
     "name": "stderr",
     "output_type": "stream",
     "text": [
      "                                                                                   \r"
     ]
    },
    {
     "name": "stdout",
     "output_type": "stream",
     "text": [
      "Epoch 1 - Loss: 1.5965 - Val Acc: 60.13%\n",
      "\n",
      "Epoch 2/20\n"
     ]
    },
    {
     "name": "stderr",
     "output_type": "stream",
     "text": [
      "                                                                                   \r"
     ]
    },
    {
     "name": "stdout",
     "output_type": "stream",
     "text": [
      "Epoch 2 - Loss: 1.1995 - Val Acc: 65.83%\n",
      "\n",
      "Epoch 3/20\n"
     ]
    },
    {
     "name": "stderr",
     "output_type": "stream",
     "text": [
      "                                                                                   \r"
     ]
    },
    {
     "name": "stdout",
     "output_type": "stream",
     "text": [
      "Epoch 3 - Loss: 1.0493 - Val Acc: 72.25%\n",
      "\n",
      "Epoch 4/20\n"
     ]
    },
    {
     "name": "stderr",
     "output_type": "stream",
     "text": [
      "                                                                                   \r"
     ]
    },
    {
     "name": "stdout",
     "output_type": "stream",
     "text": [
      "Epoch 4 - Loss: 0.9606 - Val Acc: 73.88%\n",
      "\n",
      "Epoch 5/20\n"
     ]
    },
    {
     "name": "stderr",
     "output_type": "stream",
     "text": [
      "                                                                                   \r"
     ]
    },
    {
     "name": "stdout",
     "output_type": "stream",
     "text": [
      "Epoch 5 - Loss: 0.9010 - Val Acc: 78.99%\n",
      "\n",
      "Epoch 6/20\n"
     ]
    },
    {
     "name": "stderr",
     "output_type": "stream",
     "text": [
      "                                                                                   \r"
     ]
    },
    {
     "name": "stdout",
     "output_type": "stream",
     "text": [
      "Epoch 6 - Loss: 0.8491 - Val Acc: 78.60%\n",
      "\n",
      "Epoch 7/20\n"
     ]
    },
    {
     "name": "stderr",
     "output_type": "stream",
     "text": [
      "                                                                                   \r"
     ]
    },
    {
     "name": "stdout",
     "output_type": "stream",
     "text": [
      "Epoch 7 - Loss: 0.8124 - Val Acc: 79.81%\n",
      "\n",
      "Epoch 8/20\n"
     ]
    },
    {
     "name": "stderr",
     "output_type": "stream",
     "text": [
      "                                                                                   \r"
     ]
    },
    {
     "name": "stdout",
     "output_type": "stream",
     "text": [
      "Epoch 8 - Loss: 0.7714 - Val Acc: 80.01%\n",
      "\n",
      "Epoch 9/20\n"
     ]
    },
    {
     "name": "stderr",
     "output_type": "stream",
     "text": [
      "                                                                                   \r"
     ]
    },
    {
     "name": "stdout",
     "output_type": "stream",
     "text": [
      "Epoch 9 - Loss: 0.7384 - Val Acc: 81.05%\n",
      "\n",
      "Epoch 10/20\n"
     ]
    },
    {
     "name": "stderr",
     "output_type": "stream",
     "text": [
      "                                                                                   \r"
     ]
    },
    {
     "name": "stdout",
     "output_type": "stream",
     "text": [
      "Epoch 10 - Loss: 0.7107 - Val Acc: 80.37%\n",
      "\n",
      "Epoch 11/20\n"
     ]
    },
    {
     "name": "stderr",
     "output_type": "stream",
     "text": [
      "                                                                                   \r"
     ]
    },
    {
     "name": "stdout",
     "output_type": "stream",
     "text": [
      "Epoch 11 - Loss: 0.6865 - Val Acc: 80.19%\n",
      "\n",
      "Epoch 12/20\n"
     ]
    },
    {
     "name": "stderr",
     "output_type": "stream",
     "text": [
      "                                                                                   \r"
     ]
    },
    {
     "name": "stdout",
     "output_type": "stream",
     "text": [
      "Epoch 12 - Loss: 0.6669 - Val Acc: 78.02%\n",
      "\n",
      "Epoch 13/20\n"
     ]
    },
    {
     "name": "stderr",
     "output_type": "stream",
     "text": [
      "                                                                                   \r"
     ]
    },
    {
     "name": "stdout",
     "output_type": "stream",
     "text": [
      "Epoch 13 - Loss: 0.6471 - Val Acc: 79.91%\n",
      "\n",
      "Epoch 14/20\n"
     ]
    },
    {
     "name": "stderr",
     "output_type": "stream",
     "text": [
      "                                                                                   \r"
     ]
    },
    {
     "name": "stdout",
     "output_type": "stream",
     "text": [
      "Epoch 14 - Loss: 0.6263 - Val Acc: 82.16%\n",
      "\n",
      "Epoch 15/20\n"
     ]
    },
    {
     "name": "stderr",
     "output_type": "stream",
     "text": [
      "                                                                                   \r"
     ]
    },
    {
     "name": "stdout",
     "output_type": "stream",
     "text": [
      "Epoch 15 - Loss: 0.6142 - Val Acc: 78.26%\n",
      "\n",
      "Epoch 16/20\n"
     ]
    },
    {
     "name": "stderr",
     "output_type": "stream",
     "text": [
      "                                                                                   \r"
     ]
    },
    {
     "name": "stdout",
     "output_type": "stream",
     "text": [
      "Epoch 16 - Loss: 0.6111 - Val Acc: 80.51%\n",
      "\n",
      "Epoch 17/20\n"
     ]
    },
    {
     "name": "stderr",
     "output_type": "stream",
     "text": [
      "                                                                                   \r"
     ]
    },
    {
     "name": "stdout",
     "output_type": "stream",
     "text": [
      "Epoch 17 - Loss: 0.6010 - Val Acc: 82.17%\n",
      "\n",
      "Epoch 18/20\n"
     ]
    },
    {
     "name": "stderr",
     "output_type": "stream",
     "text": [
      "                                                                                   \r"
     ]
    },
    {
     "name": "stdout",
     "output_type": "stream",
     "text": [
      "Epoch 18 - Loss: 0.5873 - Val Acc: 80.74%\n",
      "\n",
      "Epoch 19/20\n"
     ]
    },
    {
     "name": "stderr",
     "output_type": "stream",
     "text": [
      "                                                                                   \r"
     ]
    },
    {
     "name": "stdout",
     "output_type": "stream",
     "text": [
      "Epoch 19 - Loss: 0.5874 - Val Acc: 83.22%\n",
      "\n",
      "Epoch 20/20\n"
     ]
    },
    {
     "name": "stderr",
     "output_type": "stream",
     "text": [
      "                                                                                   \r"
     ]
    },
    {
     "name": "stdout",
     "output_type": "stream",
     "text": [
      "Epoch 20 - Loss: 0.5825 - Val Acc: 81.79%\n",
      "处理模型: VGG_A_BatchNorm (7820 个loss值)\n",
      "处理模型: VGG_A_Leaky (7820 个loss值)\n",
      "结果已保存至: optimization_3.png\n"
     ]
    }
   ],
   "source": [
    "\n",
    "\n",
    "if __name__ == '__main__':\n",
    "    \n",
    "    # ## Constants (parameters) initialization\n",
    "    num_workers = 4\n",
    "    batch_size = 128\n",
    "\n",
    "    # add our package dir to path\n",
    "    module_path = os.path.dirname(os.getcwd())\n",
    "    home_path = module_path\n",
    "    figures_path = os.path.join(home_path, 'reports', 'figures')\n",
    "    models_path = os.path.join(home_path, 'reports', 'models')\n",
    "\n",
    "    # Make sure you are using the right device.\n",
    "    \"没有GPU,这里改用CPU\"\n",
    "    os.environ[\"CUDA_DEVICE_ORDER\"] = \"PCI_BUS_ID\"\n",
    "    device = torch.device(\"cpu\")\n",
    "    print(device)\n",
    "\n",
    "    train_loader = get_cifar_loader(train=True)\n",
    "    val_loader = get_cifar_loader(train=False)\n",
    "        \n",
    "    # Train your model\n",
    "    # feel free to modify\n",
    "    epo = 20\n",
    "    loss_save_path = 'loss/optimization/loss_3'\n",
    "    grad_save_path = 'grad/optimization/grad_3'\n",
    "\n",
    "    set_random_seeds(seed_value=2020, device=device)\n",
    "    model = VGG_A_Leaky()\n",
    "    model_name = type(model).__name__\n",
    "\n",
    "    lr = 0.001\n",
    "    criterion = torch.nn.CrossEntropyLoss(label_smoothing=0.1)\n",
    "    optimizer = torch.optim.Adam(model.parameters(), lr=0.001, weight_decay=1e-4)\n",
    "    loss, grads = train(model, optimizer, criterion, train_loader, val_loader, epochs_n=epo)\n",
    "    np.savetxt(os.path.join(loss_save_path, f'{model_name}.txt'), loss, fmt='%s', delimiter=' ')\n",
    "    np.savetxt(os.path.join(grad_save_path, f'{model_name}.txt'), grads, fmt='%s', delimiter=' ')\n",
    "\n",
    "    # 绘制“loss”文件夹下所有模型\n",
    "    plot_loss_landscape(loss_dir=loss_save_path,output_image=\"optimization_3.png\")\n"
   ],
   "metadata": {
    "collapsed": false,
    "ExecuteTime": {
     "end_time": "2025-06-11T16:18:42.071161Z",
     "start_time": "2025-06-11T13:57:01.254147Z"
    }
   },
   "id": "3c48f14818e57082",
   "execution_count": 2
  },
  {
   "cell_type": "markdown",
   "source": [
    "4、使用 torch.optim 尝试不同的优化器\n",
    "原始的优化器是Adam，这里尝试了'SGD', 'AdamW', 'RMSprop'三种优化器"
   ],
   "metadata": {
    "collapsed": false
   },
   "id": "e677e1bef8bdf81b"
  },
  {
   "cell_type": "code",
   "outputs": [
    {
     "name": "stdout",
     "output_type": "stream",
     "text": [
      "cpu\n",
      "Files already downloaded and verified\n",
      "Files already downloaded and verified\n",
      "Batch shape: torch.Size([128, 3, 32, 32])\n",
      "Labels shape: torch.Size([128])\n",
      "Labels: [8, 7, 2, 9, 6, 6, 5, 4, 1, 7, 2, 2, 4, 6, 8, 6, 7, 8, 8, 7, 2, 5, 5, 7, 3, 5, 4, 2, 7, 8, 0, 0, 7, 4, 5, 3, 8, 0, 3, 7, 2, 1, 3, 3, 6, 4, 9, 6, 5, 8, 5, 5, 5, 0, 1, 5, 1, 2, 6, 9, 8, 0, 9, 2, 7, 5, 4, 3, 5, 4, 3, 4, 5, 6, 2, 7, 1, 0, 9, 3, 8, 6, 2, 5, 0, 6, 5, 0, 3, 1, 4, 9, 8, 6, 7, 6, 5, 7, 0, 7, 6, 5, 7, 1, 2, 8, 6, 0, 5, 9, 4, 3, 0, 4, 3, 5, 6, 1, 9, 5, 5, 7, 6, 6, 4, 0, 8, 6]\n",
      "\n",
      "Epoch 1/20\n"
     ]
    },
    {
     "name": "stderr",
     "output_type": "stream",
     "text": [
      "                                                                                   \r"
     ]
    },
    {
     "name": "stdout",
     "output_type": "stream",
     "text": [
      "Epoch 1 - Loss: 1.3793 - Val Acc: 60.89%\n",
      "\n",
      "Epoch 2/20\n"
     ]
    },
    {
     "name": "stderr",
     "output_type": "stream",
     "text": [
      "                                                                                   \r"
     ]
    },
    {
     "name": "stdout",
     "output_type": "stream",
     "text": [
      "Epoch 2 - Loss: 0.8902 - Val Acc: 69.72%\n",
      "\n",
      "Epoch 3/20\n"
     ]
    },
    {
     "name": "stderr",
     "output_type": "stream",
     "text": [
      "                                                                                   \r"
     ]
    },
    {
     "name": "stdout",
     "output_type": "stream",
     "text": [
      "Epoch 3 - Loss: 0.6857 - Val Acc: 73.78%\n",
      "\n",
      "Epoch 4/20\n"
     ]
    },
    {
     "name": "stderr",
     "output_type": "stream",
     "text": [
      "                                                                                   \r"
     ]
    },
    {
     "name": "stdout",
     "output_type": "stream",
     "text": [
      "Epoch 4 - Loss: 0.5419 - Val Acc: 72.50%\n",
      "\n",
      "Epoch 5/20\n"
     ]
    },
    {
     "name": "stderr",
     "output_type": "stream",
     "text": [
      "                                                                                   \r"
     ]
    },
    {
     "name": "stdout",
     "output_type": "stream",
     "text": [
      "Epoch 5 - Loss: 0.4390 - Val Acc: 80.33%\n",
      "\n",
      "Epoch 6/20\n"
     ]
    },
    {
     "name": "stderr",
     "output_type": "stream",
     "text": [
      "                                                                                   \r"
     ]
    },
    {
     "name": "stdout",
     "output_type": "stream",
     "text": [
      "Epoch 6 - Loss: 0.3569 - Val Acc: 79.09%\n",
      "\n",
      "Epoch 7/20\n"
     ]
    },
    {
     "name": "stderr",
     "output_type": "stream",
     "text": [
      "                                                                                   \r"
     ]
    },
    {
     "name": "stdout",
     "output_type": "stream",
     "text": [
      "Epoch 7 - Loss: 0.2865 - Val Acc: 79.74%\n",
      "\n",
      "Epoch 8/20\n"
     ]
    },
    {
     "name": "stderr",
     "output_type": "stream",
     "text": [
      "                                                                                   \r"
     ]
    },
    {
     "name": "stdout",
     "output_type": "stream",
     "text": [
      "Epoch 8 - Loss: 0.2222 - Val Acc: 81.36%\n",
      "\n",
      "Epoch 9/20\n"
     ]
    },
    {
     "name": "stderr",
     "output_type": "stream",
     "text": [
      "                                                                                   \r"
     ]
    },
    {
     "name": "stdout",
     "output_type": "stream",
     "text": [
      "Epoch 9 - Loss: 0.1698 - Val Acc: 79.29%\n",
      "\n",
      "Epoch 10/20\n"
     ]
    },
    {
     "name": "stderr",
     "output_type": "stream",
     "text": [
      "                                                                                   \r"
     ]
    },
    {
     "name": "stdout",
     "output_type": "stream",
     "text": [
      "Epoch 10 - Loss: 0.1439 - Val Acc: 82.22%\n",
      "\n",
      "Epoch 11/20\n"
     ]
    },
    {
     "name": "stderr",
     "output_type": "stream",
     "text": [
      "                                                                                   \r"
     ]
    },
    {
     "name": "stdout",
     "output_type": "stream",
     "text": [
      "Epoch 11 - Loss: 0.1133 - Val Acc: 81.71%\n",
      "\n",
      "Epoch 12/20\n"
     ]
    },
    {
     "name": "stderr",
     "output_type": "stream",
     "text": [
      "                                                                                   \r"
     ]
    },
    {
     "name": "stdout",
     "output_type": "stream",
     "text": [
      "Epoch 12 - Loss: 0.0994 - Val Acc: 79.33%\n",
      "\n",
      "Epoch 13/20\n"
     ]
    },
    {
     "name": "stderr",
     "output_type": "stream",
     "text": [
      "                                                                                   \r"
     ]
    },
    {
     "name": "stdout",
     "output_type": "stream",
     "text": [
      "Epoch 13 - Loss: 0.0825 - Val Acc: 81.45%\n",
      "\n",
      "Epoch 14/20\n"
     ]
    },
    {
     "name": "stderr",
     "output_type": "stream",
     "text": [
      "                                                                                   \r"
     ]
    },
    {
     "name": "stdout",
     "output_type": "stream",
     "text": [
      "Epoch 14 - Loss: 0.0701 - Val Acc: 82.48%\n",
      "\n",
      "Epoch 15/20\n"
     ]
    },
    {
     "name": "stderr",
     "output_type": "stream",
     "text": [
      "                                                                                   \r"
     ]
    },
    {
     "name": "stdout",
     "output_type": "stream",
     "text": [
      "Epoch 15 - Loss: 0.0646 - Val Acc: 79.26%\n",
      "\n",
      "Epoch 16/20\n"
     ]
    },
    {
     "name": "stderr",
     "output_type": "stream",
     "text": [
      "                                                                                   \r"
     ]
    },
    {
     "name": "stdout",
     "output_type": "stream",
     "text": [
      "Epoch 16 - Loss: 0.0619 - Val Acc: 82.31%\n",
      "\n",
      "Epoch 17/20\n"
     ]
    },
    {
     "name": "stderr",
     "output_type": "stream",
     "text": [
      "                                                                                   \r"
     ]
    },
    {
     "name": "stdout",
     "output_type": "stream",
     "text": [
      "Epoch 17 - Loss: 0.0595 - Val Acc: 83.21%\n",
      "\n",
      "Epoch 18/20\n"
     ]
    },
    {
     "name": "stderr",
     "output_type": "stream",
     "text": [
      "                                                                                   \r"
     ]
    },
    {
     "name": "stdout",
     "output_type": "stream",
     "text": [
      "Epoch 18 - Loss: 0.0512 - Val Acc: 80.80%\n",
      "\n",
      "Epoch 19/20\n"
     ]
    },
    {
     "name": "stderr",
     "output_type": "stream",
     "text": [
      "                                                                                   \r"
     ]
    },
    {
     "name": "stdout",
     "output_type": "stream",
     "text": [
      "Epoch 19 - Loss: 0.0475 - Val Acc: 83.02%\n",
      "\n",
      "Epoch 20/20\n"
     ]
    },
    {
     "name": "stderr",
     "output_type": "stream",
     "text": [
      "                                                                                   \r"
     ]
    },
    {
     "name": "stdout",
     "output_type": "stream",
     "text": [
      "Epoch 20 - Loss: 0.0467 - Val Acc: 81.92%\n",
      "处理模型: VGG_A_BatchNorm (7820 个loss值)\n",
      "处理模型: VGG_A_BatchNorm_AdamW (7820 个loss值)\n",
      "处理模型: VGG_A_BatchNorm_RMSprop (7820 个loss值)\n",
      "处理模型: VGG_A_BatchNorm_SGD (7820 个loss值)\n",
      "结果已保存至: optimization_4.png\n"
     ]
    }
   ],
   "source": [
    "import matplotlib as mpl\n",
    "mpl.use('Agg')\n",
    "import matplotlib.pyplot as plt\n",
    "from torch import nn\n",
    "import numpy as np\n",
    "import torch\n",
    "import os\n",
    "import random\n",
    "from tqdm import tqdm as tqdm\n",
    "\n",
    "from models.vgg import VGG_A_BatchNorm\n",
    "from data.loaders import get_cifar_loader\n",
    "\n",
    "import torchvision.utils\n",
    "from pathlib import Path\n",
    "\n",
    "\n",
    "def get_accuracy(model, dataloader, device):\n",
    "    model.eval()\n",
    "    correct = 0\n",
    "    total = 0\n",
    "\n",
    "    with torch.no_grad():\n",
    "        for X, y in dataloader:\n",
    "            X = X.to(device)\n",
    "            y = y.to(device)\n",
    "            outputs = model(X)\n",
    "            preds = outputs.argmax(dim=1)\n",
    "            correct += (preds == y).sum().item()\n",
    "            total += y.size(0)\n",
    "\n",
    "    accuracy = 100.0 * correct / total\n",
    "    return accuracy\n",
    "\n",
    "\n",
    "def set_random_seeds(seed_value=0, device='cpu'):\n",
    "    np.random.seed(seed_value)\n",
    "    torch.manual_seed(seed_value)\n",
    "    random.seed(seed_value)\n",
    "    if device != 'cpu':\n",
    "        torch.cuda.manual_seed(seed_value)\n",
    "        torch.cuda.manual_seed_all(seed_value)\n",
    "        torch.backends.cudnn.deterministic = True\n",
    "        torch.backends.cudnn.benchmark = False\n",
    "\n",
    "\n",
    "def train(model, optimizer, criterion, train_loader, val_loader, scheduler=None, epochs_n=100, best_model_path=None):\n",
    "    model.to(device)\n",
    "    learning_curve = [np.nan] * epochs_n\n",
    "    train_accuracy_curve = [np.nan] * epochs_n\n",
    "    val_accuracy_curve = [np.nan] * epochs_n\n",
    "    max_val_accuracy = 0\n",
    "\n",
    "    batches_n = len(train_loader)\n",
    "    losses_list = []\n",
    "    grads = []\n",
    "\n",
    "    for epoch in range(epochs_n):\n",
    "        print(f\"\\nEpoch {epoch + 1}/{epochs_n}\")\n",
    "        epoch_progress = tqdm(total=batches_n, desc=f\"Training batches\", unit=\"batch\", leave=False)\n",
    "        model.train()\n",
    "        loss_list = []\n",
    "        learning_curve[epoch] = 0\n",
    "\n",
    "        for batch_idx, data in enumerate(train_loader):\n",
    "            x, y = data\n",
    "            x = x.to(device)\n",
    "            y = y.to(device)\n",
    "            optimizer.zero_grad()\n",
    "            prediction = model(x)\n",
    "            loss = criterion(prediction, y)\n",
    "            loss_list.append(loss.item())\n",
    "            learning_curve[epoch] += loss.item()\n",
    "            loss.backward()\n",
    "            optimizer.step()\n",
    "            epoch_progress.update(1)\n",
    "            epoch_progress.set_postfix(loss=f\"{loss.item():.4f}\")\n",
    "\n",
    "        epoch_progress.close()\n",
    "        losses_list.append(loss_list)\n",
    "        learning_curve[epoch] /= batches_n\n",
    "\n",
    "        val_acc = get_accuracy(model, val_loader, device)\n",
    "        val_accuracy_curve[epoch] = val_acc\n",
    "        print(f\"Epoch {epoch + 1} - Loss: {learning_curve[epoch]:.4f} - Val Acc: {val_acc:.2f}%\")\n",
    "\n",
    "        if val_acc > max_val_accuracy:\n",
    "            max_val_accuracy = val_acc\n",
    "            if best_model_path:\n",
    "                torch.save(model.state_dict(), best_model_path)\n",
    "                print(f\"Saved new best model at epoch {epoch + 1} with val acc {val_acc:.2f}%\")\n",
    "\n",
    "        if scheduler:\n",
    "            scheduler.step()\n",
    "\n",
    "    return losses_list, grads\n",
    "\n",
    "\n",
    "def plot_loss_landscape(loss_dir, output_image=\"loss_landscape.png\", step_size=10, alpha=0.4, use_log_scale=True,\n",
    "                        figsize=(12, 8), dpi=100, title=\"Loss Landscape Comparison\", xlabel=\"Training Steps\",\n",
    "                        ylabel=\"Loss Value\", grid_style=('--', 0.7), legend_loc='upper right',\n",
    "                        legend_fontsize=12, title_fontsize=16, label_fontsize=14, colors=None):\n",
    "\n",
    "    plt.figure(figsize=figsize, dpi=dpi)\n",
    "    plt.title(title, fontsize=title_fontsize)\n",
    "    plt.xlabel(xlabel, fontsize=label_fontsize)\n",
    "    plt.ylabel(ylabel, fontsize=label_fontsize)\n",
    "    plt.grid(True, linestyle=grid_style[0], alpha=grid_style[1])\n",
    "\n",
    "    if colors is None:\n",
    "        colors = plt.cm.tab10(np.linspace(0, 1, 10))\n",
    "\n",
    "    for idx, file_path in enumerate(Path(loss_dir).glob(\"*.txt\")):\n",
    "        model_name = file_path.stem\n",
    "        all_losses = []\n",
    "        try:\n",
    "            with open(file_path, 'r') as f:\n",
    "                for line in f:\n",
    "                    losses = [float(x) for x in line.split()]\n",
    "                    all_losses.extend(losses)\n",
    "        except Exception as e:\n",
    "            print(f\"错误: 读取文件 {file_path} 时出错 - {e}\")\n",
    "            continue\n",
    "\n",
    "        if not all_losses:\n",
    "            print(f\"警告: {file_path} 没有有效数据，跳过\")\n",
    "            continue\n",
    "\n",
    "        print(f\"处理模型: {model_name} ({len(all_losses)} 个loss值)\")\n",
    "        num_steps = len(all_losses) // step_size\n",
    "        min_curve, max_curve = [], []\n",
    "\n",
    "        for i in range(num_steps):\n",
    "            step_losses = all_losses[i * step_size:(i + 1) * step_size]\n",
    "            min_curve.append(min(step_losses))\n",
    "            max_curve.append(max(step_losses))\n",
    "\n",
    "        steps = np.arange(num_steps)\n",
    "        plt.fill_between(steps, min_curve, max_curve,\n",
    "                         color=colors[idx % len(colors)],\n",
    "                         alpha=alpha,\n",
    "                         label=model_name)\n",
    "\n",
    "    plt.legend(fontsize=legend_fontsize, loc=legend_loc)\n",
    "    if use_log_scale:\n",
    "        plt.yscale('log')\n",
    "    plt.tight_layout()\n",
    "    plt.savefig(output_image, bbox_inches='tight')\n",
    "    print(f\"结果已保存至: {output_image}\")\n",
    "\n",
    "\n",
    "if __name__ == '__main__':\n",
    "    num_workers = 4\n",
    "    batch_size = 128\n",
    "\n",
    "    os.environ[\"CUDA_DEVICE_ORDER\"] = \"PCI_BUS_ID\"\n",
    "    device = torch.device(\"cpu\")\n",
    "    print(device)\n",
    "\n",
    "    train_loader = get_cifar_loader(train=True)\n",
    "    val_loader = get_cifar_loader(train=False)\n",
    "    for X, y in train_loader:\n",
    "        print(\"Batch shape:\", X.shape)\n",
    "        print(\"Labels shape:\", y.shape)\n",
    "        print(\"Labels:\", y.tolist())\n",
    "        grid = torchvision.utils.make_grid(X[:8], nrow=4, normalize=True)\n",
    "        npimg = grid.permute(1, 2, 0).numpy()\n",
    "        plt.figure(figsize=(6, 3))\n",
    "        plt.imshow(npimg)\n",
    "        plt.title(\"Sample Training Images\")\n",
    "        plt.axis(\"off\")\n",
    "        plt.savefig(\"sample.png\")\n",
    "        break\n",
    "\n",
    "    # === 训练设置 ===\n",
    "    epo = 20\n",
    "    lr = 0.001\n",
    "    set_random_seeds(seed_value=2020, device=device)\n",
    "\n",
    "    model = VGG_A_BatchNorm()\n",
    "    model_name = type(model).__name__\n",
    "\n",
    "    # === 优化器选择 ===\n",
    "    # baseline是Adam\n",
    "    optimizer_type = 'AdamW'  # 'SGD', 'AdamW', 'RMSprop'\n",
    "\n",
    "    if optimizer_type == 'SGD':\n",
    "        optimizer = torch.optim.SGD(model.parameters(), lr=lr, momentum=0.9)\n",
    "    elif optimizer_type == 'AdamW':\n",
    "        optimizer = torch.optim.AdamW(model.parameters(), lr=lr)\n",
    "    elif optimizer_type == 'RMSprop':\n",
    "        optimizer = torch.optim.RMSprop(model.parameters(), lr=lr)\n",
    "    else:\n",
    "        raise ValueError(f\"Unsupported optimizer type: {optimizer_type}\")\n",
    "\n",
    "    # === 动态保存路径 ===\n",
    "    loss_save_path = 'loss/optimization_2'\n",
    "    grad_save_path = 'grad/optimization_2'\n",
    "    os.makedirs(loss_save_path, exist_ok=True)\n",
    "    os.makedirs(grad_save_path, exist_ok=True)\n",
    "\n",
    "    criterion = nn.CrossEntropyLoss()\n",
    "    loss, grads = train(model, optimizer, criterion, train_loader, val_loader, epochs_n=epo)\n",
    "\n",
    "    # === 保存 loss / grad ===\n",
    "    np.savetxt(os.path.join(loss_save_path, f'{model_name}_{optimizer_type}.txt'), loss, fmt='%s', delimiter=' ')\n",
    "    np.savetxt(os.path.join(grad_save_path, f'{model_name}_{optimizer_type}.txt'), grads, fmt='%s', delimiter=' ')\n",
    "\n",
    "    # === 绘制 loss 曲线 ===\n",
    "    plot_loss_landscape(loss_dir=loss_save_path, output_image=\"optimization_4.png\")\n"
   ],
   "metadata": {
    "collapsed": false,
    "ExecuteTime": {
     "end_time": "2025-06-16T10:38:36.485337Z",
     "start_time": "2025-06-16T08:34:16.991668Z"
    }
   },
   "id": "184267b554d20dc4",
   "execution_count": 1
  },
  {
   "cell_type": "markdown",
   "source": [
    "通过上面四种优化策略，最终选择使用带有标签平滑（Label Smoothing）的交叉熵损失函数优化器和AdamW优化器，其余不变。重新运行并保存模型权重。"
   ],
   "metadata": {
    "collapsed": false
   },
   "id": "83952b2afb2a2fb2"
  },
  {
   "cell_type": "code",
   "outputs": [
    {
     "name": "stdout",
     "output_type": "stream",
     "text": [
      "cpu\n",
      "Files already downloaded and verified\n",
      "Files already downloaded and verified\n",
      "\n",
      "Epoch 1/20\n"
     ]
    },
    {
     "name": "stderr",
     "output_type": "stream",
     "text": [
      "                                                                   \r"
     ]
    },
    {
     "name": "stdout",
     "output_type": "stream",
     "text": [
      "Epoch 1 - Loss: 1.5725 - Val Acc: 58.99%\n",
      "保存新最佳模型：Epoch 1 | Loss: 1.5725 | Val Acc: 58.99%\n",
      "\n",
      "Epoch 2/20\n"
     ]
    },
    {
     "name": "stderr",
     "output_type": "stream",
     "text": [
      "                                                                   \r"
     ]
    },
    {
     "name": "stdout",
     "output_type": "stream",
     "text": [
      "Epoch 2 - Loss: 1.1723 - Val Acc: 68.64%\n",
      "保存新最佳模型：Epoch 2 | Loss: 1.1723 | Val Acc: 68.64%\n",
      "\n",
      "Epoch 3/20\n"
     ]
    },
    {
     "name": "stderr",
     "output_type": "stream",
     "text": [
      "                                                                   \r"
     ]
    },
    {
     "name": "stdout",
     "output_type": "stream",
     "text": [
      "Epoch 3 - Loss: 1.0092 - Val Acc: 74.77%\n",
      "保存新最佳模型：Epoch 3 | Loss: 1.0092 | Val Acc: 74.77%\n",
      "\n",
      "Epoch 4/20\n"
     ]
    },
    {
     "name": "stderr",
     "output_type": "stream",
     "text": [
      "                                                                   \r"
     ]
    },
    {
     "name": "stdout",
     "output_type": "stream",
     "text": [
      "Epoch 4 - Loss: 0.9066 - Val Acc: 76.66%\n",
      "保存新最佳模型：Epoch 4 | Loss: 0.9066 | Val Acc: 76.66%\n",
      "\n",
      "Epoch 5/20\n"
     ]
    },
    {
     "name": "stderr",
     "output_type": "stream",
     "text": [
      "                                                                   \r"
     ]
    },
    {
     "name": "stdout",
     "output_type": "stream",
     "text": [
      "Epoch 5 - Loss: 0.8289 - Val Acc: 80.81%\n",
      "保存新最佳模型：Epoch 5 | Loss: 0.8289 | Val Acc: 80.81%\n",
      "\n",
      "Epoch 6/20\n"
     ]
    },
    {
     "name": "stderr",
     "output_type": "stream",
     "text": [
      "                                                                   \r"
     ]
    },
    {
     "name": "stdout",
     "output_type": "stream",
     "text": [
      "Epoch 6 - Loss: 0.7660 - Val Acc: 81.32%\n",
      "保存新最佳模型：Epoch 6 | Loss: 0.7660 | Val Acc: 81.32%\n",
      "\n",
      "Epoch 7/20\n"
     ]
    },
    {
     "name": "stderr",
     "output_type": "stream",
     "text": [
      "                                                                   \r"
     ]
    },
    {
     "name": "stdout",
     "output_type": "stream",
     "text": [
      "Epoch 7 - Loss: 0.7110 - Val Acc: 80.02%\n",
      "\n",
      "Epoch 8/20\n"
     ]
    },
    {
     "name": "stderr",
     "output_type": "stream",
     "text": [
      "                                                                   \r"
     ]
    },
    {
     "name": "stdout",
     "output_type": "stream",
     "text": [
      "Epoch 8 - Loss: 0.6655 - Val Acc: 81.18%\n",
      "\n",
      "Epoch 9/20\n"
     ]
    },
    {
     "name": "stderr",
     "output_type": "stream",
     "text": [
      "                                                                   \r"
     ]
    },
    {
     "name": "stdout",
     "output_type": "stream",
     "text": [
      "Epoch 9 - Loss: 0.6305 - Val Acc: 81.49%\n",
      "保存新最佳模型：Epoch 9 | Loss: 0.6305 | Val Acc: 81.49%\n",
      "\n",
      "Epoch 10/20\n"
     ]
    },
    {
     "name": "stderr",
     "output_type": "stream",
     "text": [
      "                                                                    \r"
     ]
    },
    {
     "name": "stdout",
     "output_type": "stream",
     "text": [
      "Epoch 10 - Loss: 0.6058 - Val Acc: 79.82%\n",
      "\n",
      "Epoch 11/20\n"
     ]
    },
    {
     "name": "stderr",
     "output_type": "stream",
     "text": [
      "                                                                    \r"
     ]
    },
    {
     "name": "stdout",
     "output_type": "stream",
     "text": [
      "Epoch 11 - Loss: 0.5834 - Val Acc: 81.73%\n",
      "保存新最佳模型：Epoch 11 | Loss: 0.5834 | Val Acc: 81.73%\n",
      "\n",
      "Epoch 12/20\n"
     ]
    },
    {
     "name": "stderr",
     "output_type": "stream",
     "text": [
      "                                                                    \r"
     ]
    },
    {
     "name": "stdout",
     "output_type": "stream",
     "text": [
      "Epoch 12 - Loss: 0.5720 - Val Acc: 81.59%\n",
      "\n",
      "Epoch 13/20\n"
     ]
    },
    {
     "name": "stderr",
     "output_type": "stream",
     "text": [
      "                                                                    \r"
     ]
    },
    {
     "name": "stdout",
     "output_type": "stream",
     "text": [
      "Epoch 13 - Loss: 0.5643 - Val Acc: 82.50%\n",
      "保存新最佳模型：Epoch 13 | Loss: 0.5643 | Val Acc: 82.50%\n",
      "\n",
      "Epoch 14/20\n"
     ]
    },
    {
     "name": "stderr",
     "output_type": "stream",
     "text": [
      "                                                                    \r"
     ]
    },
    {
     "name": "stdout",
     "output_type": "stream",
     "text": [
      "Epoch 14 - Loss: 0.5624 - Val Acc: 82.64%\n",
      "保存新最佳模型：Epoch 14 | Loss: 0.5624 | Val Acc: 82.64%\n",
      "\n",
      "Epoch 15/20\n"
     ]
    },
    {
     "name": "stderr",
     "output_type": "stream",
     "text": [
      "                                                                    \r"
     ]
    },
    {
     "name": "stdout",
     "output_type": "stream",
     "text": [
      "Epoch 15 - Loss: 0.5492 - Val Acc: 80.15%\n",
      "\n",
      "Epoch 16/20\n"
     ]
    },
    {
     "name": "stderr",
     "output_type": "stream",
     "text": [
      "                                                                    \r"
     ]
    },
    {
     "name": "stdout",
     "output_type": "stream",
     "text": [
      "Epoch 16 - Loss: 0.5489 - Val Acc: 83.06%\n",
      "保存新最佳模型：Epoch 16 | Loss: 0.5489 | Val Acc: 83.06%\n",
      "\n",
      "Epoch 17/20\n"
     ]
    },
    {
     "name": "stderr",
     "output_type": "stream",
     "text": [
      "                                                                    \r"
     ]
    },
    {
     "name": "stdout",
     "output_type": "stream",
     "text": [
      "Epoch 17 - Loss: 0.5429 - Val Acc: 80.96%\n",
      "\n",
      "Epoch 18/20\n"
     ]
    },
    {
     "name": "stderr",
     "output_type": "stream",
     "text": [
      "                                                                    \r"
     ]
    },
    {
     "name": "stdout",
     "output_type": "stream",
     "text": [
      "Epoch 18 - Loss: 0.5415 - Val Acc: 81.75%\n",
      "\n",
      "Epoch 19/20\n"
     ]
    },
    {
     "name": "stderr",
     "output_type": "stream",
     "text": [
      "                                                                    \r"
     ]
    },
    {
     "name": "stdout",
     "output_type": "stream",
     "text": [
      "Epoch 19 - Loss: 0.5418 - Val Acc: 81.56%\n",
      "\n",
      "Epoch 20/20\n"
     ]
    },
    {
     "name": "stderr",
     "output_type": "stream",
     "text": [
      "                                                                    \r"
     ]
    },
    {
     "name": "stdout",
     "output_type": "stream",
     "text": [
      "Epoch 20 - Loss: 0.5360 - Val Acc: 82.62%\n",
      "\n",
      "最佳模型信息：Epoch 16 | Loss: 0.5489 | Val Acc: 83.06%\n",
      "\n",
      "训练完成！\n",
      "最佳模型保存在: best_model\\VGG_A_BatchNorm_best.pth\n",
      "验证集最佳 Loss: 0.5489\n",
      "验证集最佳 Accuracy: 83.06%\n"
     ]
    }
   ],
   "source": [
    "import matplotlib as mpl\n",
    "mpl.use('Agg')\n",
    "import matplotlib.pyplot as plt\n",
    "from torch import nn\n",
    "import numpy as np\n",
    "import torch\n",
    "import os\n",
    "import random\n",
    "from tqdm import tqdm as tqdm\n",
    "\n",
    "from models.vgg import VGG_A_BatchNorm\n",
    "from data.loaders import get_cifar_loader\n",
    "\n",
    "import torchvision.utils\n",
    "from pathlib import Path\n",
    "\n",
    "\n",
    "def get_accuracy(model, dataloader, device):\n",
    "    model.eval()\n",
    "    correct = 0\n",
    "    total = 0\n",
    "\n",
    "    with torch.no_grad():\n",
    "        for X, y in dataloader:\n",
    "            X = X.to(device)\n",
    "            y = y.to(device)\n",
    "            outputs = model(X)\n",
    "            preds = outputs.argmax(dim=1)\n",
    "            correct += (preds == y).sum().item()\n",
    "            total += y.size(0)\n",
    "\n",
    "    accuracy = 100.0 * correct / total\n",
    "    return accuracy\n",
    "\n",
    "\n",
    "def set_random_seeds(seed_value=0, device='cpu'):\n",
    "    np.random.seed(seed_value)\n",
    "    torch.manual_seed(seed_value)\n",
    "    random.seed(seed_value)\n",
    "    if device != 'cpu':\n",
    "        torch.cuda.manual_seed(seed_value)\n",
    "        torch.cuda.manual_seed_all(seed_value)\n",
    "        torch.backends.cudnn.deterministic = True\n",
    "        torch.backends.cudnn.benchmark = False\n",
    "\n",
    "\n",
    "def train(model, optimizer, criterion, train_loader, val_loader, scheduler=None, epochs_n=100, best_model_path=None):\n",
    "    model.to(device)\n",
    "    max_val_accuracy = 0\n",
    "    best_epoch = -1\n",
    "    best_loss = float('inf')\n",
    "\n",
    "    for epoch in range(epochs_n):\n",
    "        print(f\"\\nEpoch {epoch + 1}/{epochs_n}\")\n",
    "        model.train()\n",
    "        total_loss = 0.0\n",
    "        batches_n = len(train_loader)\n",
    "\n",
    "        for x, y in tqdm(train_loader, desc=f\"Training Epoch {epoch+1}\", leave=False):\n",
    "            x = x.to(device)\n",
    "            y = y.to(device)\n",
    "            optimizer.zero_grad()\n",
    "            prediction = model(x)\n",
    "            loss = criterion(prediction, y)\n",
    "            loss.backward()\n",
    "            optimizer.step()\n",
    "            total_loss += loss.item()\n",
    "\n",
    "        avg_loss = total_loss / batches_n\n",
    "        val_acc = get_accuracy(model, val_loader, device)\n",
    "        print(f\"Epoch {epoch + 1} - Loss: {avg_loss:.4f} - Val Acc: {val_acc:.2f}%\")\n",
    "\n",
    "        if val_acc > max_val_accuracy:\n",
    "            max_val_accuracy = val_acc\n",
    "            best_loss = avg_loss\n",
    "            best_epoch = epoch + 1\n",
    "            if best_model_path:\n",
    "                torch.save(model.state_dict(), best_model_path)\n",
    "                print(f\"保存新最佳模型：Epoch {best_epoch} | Loss: {best_loss:.4f} | Val Acc: {max_val_accuracy:.2f}%\")\n",
    "\n",
    "        if scheduler:\n",
    "            scheduler.step()\n",
    "\n",
    "    print(f\"\\n最佳模型信息：Epoch {best_epoch} | Loss: {best_loss:.4f} | Val Acc: {max_val_accuracy:.2f}%\")\n",
    "    return best_loss, max_val_accuracy\n",
    "\n",
    "\n",
    "if __name__ == '__main__':\n",
    "    num_workers = 4\n",
    "    batch_size = 128\n",
    "\n",
    "    os.environ[\"CUDA_DEVICE_ORDER\"] = \"PCI_BUS_ID\"\n",
    "    device = torch.device(\"cpu\")\n",
    "    print(device)\n",
    "\n",
    "    train_loader = get_cifar_loader(train=True)\n",
    "    val_loader = get_cifar_loader(train=False)\n",
    "\n",
    "    # === 训练设置 ===\n",
    "    epo = 20\n",
    "    lr = 0.001\n",
    "    set_random_seeds(seed_value=2020, device=device)\n",
    "\n",
    "    model = VGG_A_BatchNorm()\n",
    "    model_name = type(model).__name__\n",
    "\n",
    "    optimizer = torch.optim.AdamW(model.parameters(), lr=lr)\n",
    "    criterion = torch.nn.CrossEntropyLoss(label_smoothing=0.1)\n",
    "    \n",
    "    # === 动态保存路径 ===\n",
    "\n",
    "    best_model_dir = 'best_model'\n",
    "    os.makedirs(best_model_dir, exist_ok=True)\n",
    "    best_model_path = os.path.join(best_model_dir, f'{model_name}_best.pth')\n",
    "    \n",
    "    # === 启动训练 ===\n",
    "    best_loss, best_acc = train(model, optimizer, criterion, train_loader, val_loader,\n",
    "                                epochs_n=epo, best_model_path=best_model_path)\n",
    "    \n",
    "    # === 输出最终结果 ===\n",
    "    print(f\"\\n训练完成！\")\n",
    "    print(f\"最佳模型保存在: {best_model_path}\")\n",
    "    print(f\"验证集最佳 Loss: {best_loss:.4f}\")\n",
    "    print(f\"验证集最佳 Accuracy: {best_acc:.2f}%\")\n"
   ],
   "metadata": {
    "collapsed": false,
    "ExecuteTime": {
     "end_time": "2025-06-16T16:34:33.250713Z",
     "start_time": "2025-06-16T14:29:35.922344Z"
    }
   },
   "id": "7c96521bad71ffc9",
   "execution_count": 4
  },
  {
   "cell_type": "markdown",
   "source": [],
   "metadata": {
    "collapsed": false
   },
   "id": "85c3bdade4f15e47"
  },
  {
   "cell_type": "code",
   "outputs": [],
   "source": [],
   "metadata": {
    "collapsed": false
   },
   "id": "37b22d41db3dfc2f"
  }
 ],
 "metadata": {
  "kernelspec": {
   "display_name": "Python 3",
   "language": "python",
   "name": "python3"
  },
  "language_info": {
   "codemirror_mode": {
    "name": "ipython",
    "version": 2
   },
   "file_extension": ".py",
   "mimetype": "text/x-python",
   "name": "python",
   "nbconvert_exporter": "python",
   "pygments_lexer": "ipython2",
   "version": "2.7.6"
  }
 },
 "nbformat": 4,
 "nbformat_minor": 5
}
