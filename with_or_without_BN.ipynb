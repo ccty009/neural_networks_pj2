{
 "cells": [
  {
   "cell_type": "markdown",
   "source": [
    "一个简单的绘制，学习率都为0.001"
   ],
   "metadata": {
    "collapsed": false
   },
   "id": "85fc028b054ca047"
  },
  {
   "cell_type": "code",
   "execution_count": 1,
   "id": "initial_id",
   "metadata": {
    "collapsed": true,
    "ExecuteTime": {
     "end_time": "2025-06-16T11:15:25.223667Z",
     "start_time": "2025-06-16T11:15:21.253770Z"
    }
   },
   "outputs": [
    {
     "name": "stdout",
     "output_type": "stream",
     "text": [
      "处理模型: VGG_A (7820 个loss值)\n",
      "处理模型: VGG_A_BatchNorm (7820 个loss值)\n",
      "结果已保存至: BN.png\n"
     ]
    }
   ],
   "source": [
    "from VGG_Loss_Landscape import plot_loss_landscape\n",
    "\n",
    "plot_loss_landscape(loss_dir=\"loss/BN\",output_image=\"BN.png\")"
   ]
  },
  {
   "cell_type": "code",
   "outputs": [],
   "source": [],
   "metadata": {
    "collapsed": false
   },
   "id": "f2e82c8266491734"
  }
 ],
 "metadata": {
  "kernelspec": {
   "display_name": "Python 3",
   "language": "python",
   "name": "python3"
  },
  "language_info": {
   "codemirror_mode": {
    "name": "ipython",
    "version": 2
   },
   "file_extension": ".py",
   "mimetype": "text/x-python",
   "name": "python",
   "nbconvert_exporter": "python",
   "pygments_lexer": "ipython2",
   "version": "2.7.6"
  }
 },
 "nbformat": 4,
 "nbformat_minor": 5
}
